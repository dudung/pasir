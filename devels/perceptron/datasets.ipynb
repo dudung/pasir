{
 "cells": [
  {
   "cell_type": "markdown",
   "id": "539d4f57-499e-4015-b1d6-112cea78c0e7",
   "metadata": {},
   "source": [
    "# linearly separable problems"
   ]
  },
  {
   "cell_type": "markdown",
   "id": "20a9600c-dd76-42b8-b0d3-46f8a22f6297",
   "metadata": {},
   "source": [
    "## dataset 1"
   ]
  },
  {
   "cell_type": "code",
   "execution_count": 1,
   "id": "175c3aef-b897-4177-a7e0-d181a0d34ec6",
   "metadata": {},
   "outputs": [],
   "source": [
    "dataset1 = [\n",
    "    [0, 0, 0, 0, 1, 1, 1, 1, 2, 2, 2, 2, 3, 3, 3, 3],\n",
    "    [0, 1, 2, 3, 0, 1, 2, 3, 0, 1, 2, 3, 0, 1, 2, 3],\n",
    "    [0, 0, 0, 0, 0, 0, 0, 0, 1, 1, 1, 1, 1, 1, 1, 1],\n",
    "]"
   ]
  },
  {
   "cell_type": "code",
   "execution_count": null,
   "id": "9a1e0af5-e1cd-45d3-ab0b-bf4fba53b922",
   "metadata": {},
   "outputs": [],
   "source": []
  }
 ],
 "metadata": {
  "kernelspec": {
   "display_name": "Python 3 (ipykernel)",
   "language": "python",
   "name": "python3"
  },
  "language_info": {
   "codemirror_mode": {
    "name": "ipython",
    "version": 3
   },
   "file_extension": ".py",
   "mimetype": "text/x-python",
   "name": "python",
   "nbconvert_exporter": "python",
   "pygments_lexer": "ipython3",
   "version": "3.12.3"
  }
 },
 "nbformat": 4,
 "nbformat_minor": 5
}
