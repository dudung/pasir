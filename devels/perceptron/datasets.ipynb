{
 "cells": [
  {
   "cell_type": "markdown",
   "id": "539d4f57-499e-4015-b1d6-112cea78c0e7",
   "metadata": {},
   "source": [
    "# linearly separable problems"
   ]
  },
  {
   "cell_type": "markdown",
   "id": "20a9600c-dd76-42b8-b0d3-46f8a22f6297",
   "metadata": {},
   "source": [
    "## dataset 1"
   ]
  },
  {
   "cell_type": "code",
   "execution_count": 19,
   "id": "2b371b38-86da-4d85-b132-b72910f1fe9b",
   "metadata": {},
   "outputs": [],
   "source": [
    "def gen_data_1():\n",
    "    nx = 11\n",
    "    ny = 11\n",
    "    xx = []\n",
    "    yy = []\n",
    "    zz = []\n",
    "    for y in range(1, ny):\n",
    "        for x in range(nx):\n",
    "            xx.append(x)\n",
    "            yy.append(y)\n",
    "            if x > 5:\n",
    "                zz.append(1)\n",
    "            else:\n",
    "                zz.append(0)\n",
    "    return [xx, yy, zz]"
   ]
  },
  {
   "cell_type": "markdown",
   "id": "4ebd98fe-9b2c-4f72-8787-c6967b43c05c",
   "metadata": {},
   "source": [
    "## dataset 2"
   ]
  },
  {
   "cell_type": "code",
   "execution_count": 20,
   "id": "3231f3f5-e9d3-4983-a20d-537012c80fda",
   "metadata": {},
   "outputs": [],
   "source": [
    "def gen_data_2():\n",
    "    nx = 11\n",
    "    ny = 11\n",
    "    xx = []\n",
    "    yy = []\n",
    "    zz = []\n",
    "    for y in range(1, ny):\n",
    "        for x in range(nx):\n",
    "            xx.append(x)\n",
    "            yy.append(y)\n",
    "            if y > 5:\n",
    "                zz.append(1)\n",
    "            else:\n",
    "                zz.append(0)\n",
    "    return [xx, yy, zz]"
   ]
  },
  {
   "cell_type": "markdown",
   "id": "7e932f08-ac6c-486e-8d9a-ad1de49a7695",
   "metadata": {},
   "source": [
    "## dataset 3"
   ]
  },
  {
   "cell_type": "code",
   "execution_count": 31,
   "id": "2b14020d-2a9f-42ba-ae1d-9cad289a2061",
   "metadata": {},
   "outputs": [],
   "source": [
    "def gen_data_3():\n",
    "    nx = 11\n",
    "    ny = 11\n",
    "    xx = []\n",
    "    yy = []\n",
    "    zz = []\n",
    "    for y in range(1, ny):\n",
    "        for x in range(nx):\n",
    "            xx.append(x)\n",
    "            yy.append(y)\n",
    "            if x + y > 10:\n",
    "                zz.append(1)\n",
    "            else:\n",
    "                zz.append(0)\n",
    "    return [xx, yy, zz]"
   ]
  },
  {
   "cell_type": "markdown",
   "id": "cac56673-51ab-4bdf-8086-5cbf91df438d",
   "metadata": {},
   "source": [
    "## select dataset"
   ]
  },
  {
   "cell_type": "code",
   "execution_count": 32,
   "id": "175c3aef-b897-4177-a7e0-d181a0d34ec6",
   "metadata": {},
   "outputs": [],
   "source": [
    "def dataset(n):\n",
    "    match n:\n",
    "      case 1: ds = gen_data_1()\n",
    "      case 2: ds = gen_data_2()\n",
    "      case 3: ds = gen_data_3()\n",
    "    return ds"
   ]
  },
  {
   "cell_type": "code",
   "execution_count": 28,
   "id": "d423af5f-2c8f-4468-bb0a-e1721aa5d845",
   "metadata": {},
   "outputs": [],
   "source": [
    "import matplotlib.pyplot as plt\n",
    "\n",
    "styles = ['s','o']\n",
    "colors = ['b', 'r']"
   ]
  },
  {
   "cell_type": "code",
   "execution_count": 33,
   "id": "9a1e0af5-e1cd-45d3-ab0b-bf4fba53b922",
   "metadata": {},
   "outputs": [
    {
     "data": {
      "image/png": "[encoded data removed]",
      "text/plain": [
       "<Figure size 400x400 with 1 Axes>"
      ]
     },
     "metadata": {},
     "output_type": "display_data"
    }
   ],
   "source": [
    "plt.figure(figsize=(4, 4))\n",
    "x = dataset(3)\n",
    "\n",
    "for i in range(len(x[0])):\n",
    "    xx = x[0][i]\n",
    "    yy = x[1][i]\n",
    "    cc = colors[x[2][i]]\n",
    "    mm = styles[x[2][i]]\n",
    "    plt.scatter(xx, yy, c=cc, marker=mm)\n",
    "\n",
    "plt.grid()\n",
    "plt.xlabel('x1')\n",
    "plt.ylabel('x2')\n",
    "plt.show()"
   ]
  },
  {
   "cell_type": "code",
   "execution_count": null,
   "id": "f4bc026f-c951-4b59-a44b-3ae6bbfea75f",
   "metadata": {},
   "outputs": [],
   "source": []
  }
 ],
 "metadata": {
  "kernelspec": {
   "display_name": "Python 3 (ipykernel)",
   "language": "python",
   "name": "python3"
  },
  "language_info": {
   "codemirror_mode": {
    "name": "ipython",
    "version": 3
   },
   "file_extension": ".py",
   "mimetype": "text/x-python",
   "name": "python",
   "nbconvert_exporter": "python",
   "pygments_lexer": "ipython3",
   "version": "3.12.3"
  }
 },
 "nbformat": 4,
 "nbformat_minor": 5
}
