{
 "cells": [
  {
   "cell_type": "markdown",
   "id": "e458526d-8a8b-4aee-b75b-4a5ffb3eb3d0",
   "metadata": {},
   "source": [
    "# logical gates"
   ]
  },
  {
   "cell_type": "code",
   "execution_count": 3,
   "id": "b859354a-05e9-4ac9-a1b3-c218b6580c98",
   "metadata": {},
   "outputs": [],
   "source": [
    "def f_activation(z):\n",
    "    if z > 0:\n",
    "        1\n",
    "    else:\n",
    "        0"
   ]
  },
  {
   "cell_type": "code",
   "execution_count": null,
   "id": "0e1df951-a932-4720-92b7-772ff0eddad5",
   "metadata": {},
   "outputs": [],
   "source": [
    "def gate_or(x1, x2):\n",
    "    w1 = 1\n",
    "    w2 = 1\n",
    "    b = 1\n",
    "    \n",
    "\n",
    "# or gate\n",
    "x1 = [0, 0, 1, 1]\n",
    "x2 = [0, 1, 0, 1]\n",
    "y = [0, 1, 1, 1]\n",
    "\n"
   ]
  }
 ],
 "metadata": {
  "kernelspec": {
   "display_name": "Python 3 (ipykernel)",
   "language": "python",
   "name": "python3"
  },
  "language_info": {
   "codemirror_mode": {
    "name": "ipython",
    "version": 3
   },
   "file_extension": ".py",
   "mimetype": "text/x-python",
   "name": "python",
   "nbconvert_exporter": "python",
   "pygments_lexer": "ipython3",
   "version": "3.12.3"
  }
 },
 "nbformat": 4,
 "nbformat_minor": 5
}
