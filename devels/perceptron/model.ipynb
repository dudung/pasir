{
 "cells": [
  {
   "cell_type": "markdown",
   "id": "3e4fadad-e60d-4013-832e-bbc6e3faf60f",
   "metadata": {},
   "source": [
    "# perceptron model"
   ]
  },
  {
   "cell_type": "code",
   "execution_count": null,
   "id": "08c1f9d3-00af-41f1-8146-ac727a4427a7",
   "metadata": {},
   "outputs": [],
   "source": [
    "import numpy as np"
   ]
  },
  {
   "cell_type": "code",
   "execution_count": null,
   "id": "80264036-9fd4-47db-abcf-f053e134504d",
   "metadata": {},
   "outputs": [],
   "source": [
    "def binary_step(x):\n",
    "    if x >= 0:\n",
    "        z = 1\n",
    "    else:\n",
    "        z = 0\n",
    "    return z"
   ]
  },
  {
   "cell_type": "code",
   "execution_count": null,
   "id": "319f8baa-abbe-4f03-a2e6-6e6918a6a0e2",
   "metadata": {},
   "outputs": [],
   "source": [
    "def perceptron(w, x):\n",
    "    ww = np.array([w])\n",
    "    xx = np.array([x + [1]])\n",
    "    y = binary_step((ww @ xx.T).item())\n",
    "    return y"
   ]
  },
  {
   "cell_type": "code",
   "execution_count": null,
   "id": "2b7dbb0b-068d-4dfa-90b7-80f9ec4d6535",
   "metadata": {},
   "outputs": [],
   "source": [
    "def decision_boundary(xr, yr, w):\n",
    "    a = w[0]; b = w[1]; c = w[2]\n",
    "    xmin = xr[0]; xmax = xr[1]\n",
    "    ymin = yr[0]; ymax = yr[1]\n",
    "\n",
    "    xx = []; yy = []\n",
    "    for x in range(xmin, xmax+1):\n",
    "        for y  in range(ymin, ymax+1):\n",
    "            z = a*x + b*y + c\n",
    "            if z == 0:\n",
    "                xx.append(x)\n",
    "                yy.append(y)\n",
    "    return xx, yy"
   ]
  },
  {
   "cell_type": "code",
   "execution_count": null,
   "id": "afcf0c7a-b82b-4f44-8cff-a7996fe042b2",
   "metadata": {},
   "outputs": [],
   "source": [
    "def predicted_data(xr, yr, w):\n",
    "    xx = []; yy = []; zz = []\n",
    "    for x2 in range(yr[0], yr[1]+1):\n",
    "        for x1 in range(xr[0], xr[1]+1):\n",
    "            x = [x1, x2]\n",
    "            y = perceptron(w, x)\n",
    "            xx.append(x1)\n",
    "            yy.append(x2)\n",
    "            zz.append(y)\n",
    "    return xx, yy, zz"
   ]
  },
  {
   "cell_type": "code",
   "execution_count": null,
   "id": "7a10e9e9-0966-4761-9b81-2d95ff8c5986",
   "metadata": {},
   "outputs": [],
   "source": [
    "def diff_true_pred(xx, yy, zz, w):\n",
    "    data = np.array([xx, yy, zz]).T\n",
    "    zpred = []\n",
    "    for x in data:\n",
    "        y = perceptron(w, x)\n",
    "        zpred.append(y)\n",
    "    diff = []\n",
    "    for i, j in zip(zz, zpred):\n",
    "        diff.append(i - j)\n",
    "    return diff"
   ]
  }
 ],
 "metadata": {
  "kernelspec": {
   "display_name": "Python 3 (ipykernel)",
   "language": "python",
   "name": "python3"
  },
  "language_info": {
   "codemirror_mode": {
    "name": "ipython",
    "version": 3
   },
   "file_extension": ".py",
   "mimetype": "text/x-python",
   "name": "python",
   "nbconvert_exporter": "python",
   "pygments_lexer": "ipython3",
   "version": "3.12.3"
  }
 },
 "nbformat": 4,
 "nbformat_minor": 5
}
