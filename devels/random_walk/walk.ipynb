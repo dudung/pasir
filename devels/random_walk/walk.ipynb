{
 "cells": [
  {
   "cell_type": "markdown",
   "id": "40bf12ca-b11f-4b36-9a1e-095db28faca7",
   "metadata": {},
   "source": [
    "# some function for random walk"
   ]
  },
  {
   "cell_type": "code",
   "execution_count": null,
   "id": "b1b83667-b9e6-4c8d-845b-377bcfbbd4b3",
   "metadata": {
    "scrolled": true
   },
   "outputs": [],
   "source": [
    "def discrete_dirs(ndir, n):\n",
    "    import random as rnd\n",
    "    d = ndir - 1\n",
    "    n = range(n)\n",
    "    dirs = [rnd.randint(0, d) for i in n]\n",
    "    return dirs"
   ]
  },
  {
   "cell_type": "code",
   "execution_count": null,
   "id": "5b826a5f-b8ea-4b37-ac33-9e9ba5374c9a",
   "metadata": {
    "scrolled": true
   },
   "outputs": [],
   "source": [
    "def move_dirs(xo, yo, dr, num):\n",
    "    import math as m\n",
    "    ndir = 1 + max(num)\n",
    "    d = 360 / ndir\n",
    "    ang = [i*d for i in range(ndir)]\n",
    "    x = [xo]\n",
    "    y = [yo]\n",
    "    for i in range(len(num)):\n",
    "        a = ang[num[i]]\n",
    "        dx = dr * m.cos(m.radians(a))\n",
    "        dy = dr * m.sin(m.radians(a))\n",
    "        x.append(x[i] + dx)\n",
    "        y.append(y[i] + dy)\n",
    "    return x, y"
   ]
  },
  {
   "cell_type": "code",
   "execution_count": null,
   "id": "d725850f-b7d5-45a4-985e-7002b764c308",
   "metadata": {},
   "outputs": [],
   "source": [
    "def dist_from_coords(x, y):\n",
    "    import math\n",
    "    N = min(len(x), len(y))\n",
    "    d = []\n",
    "    for i in range(1, N):\n",
    "        dx = x[i] - x[i-1]\n",
    "        dy = y[i] - y[i-1]\n",
    "        dr2 = dx*dx + dy*dy\n",
    "        dr = math.sqrt(dr2)\n",
    "        if i > 1:\n",
    "            d.append(d[i-2] + dr)\n",
    "        else:\n",
    "            d.append(dr)\n",
    "    return d"
   ]
  },
  {
   "cell_type": "code",
   "execution_count": null,
   "id": "201b1c01-56c8-4f48-83a4-d46a016d57b3",
   "metadata": {},
   "outputs": [],
   "source": [
    "def displ_from_coords(x, y):\n",
    "    import math\n",
    "    N = min(len(x), len(y))\n",
    "    d = []\n",
    "    for i in range(1, N):\n",
    "        dx = x[i] - x[0]\n",
    "        dy = y[i] - y[0]\n",
    "        dr2 = dx*dx + dy*dy\n",
    "        dr = math.sqrt(dr2)\n",
    "        d.append(dr)\n",
    "    return d"
   ]
  },
  {
   "cell_type": "code",
   "execution_count": null,
   "id": "c36c4003-05cf-4ac3-9941-21f21b4cea86",
   "metadata": {},
   "outputs": [],
   "source": [
    "def msd_shuffle_dirs(dirs, rep):\n",
    "    import random as rnd\n",
    "    msd = [0] * len(dirs)\n",
    "    for i in range(rep):\n",
    "        rnd.shuffle(dirs)\n",
    "        x, y = move_dirs(0, 0, 1, dirs)\n",
    "        s = displ_from_coords(x, y)\n",
    "        msd = [a+b/rep for a, b in zip(msd, s)]\n",
    "    return msd"
   ]
  }
 ],
 "metadata": {
  "kernelspec": {
   "display_name": "Python 3 (ipykernel)",
   "language": "python",
   "name": "python3"
  },
  "language_info": {
   "codemirror_mode": {
    "name": "ipython",
    "version": 3
   },
   "file_extension": ".py",
   "mimetype": "text/x-python",
   "name": "python",
   "nbconvert_exporter": "python",
   "pygments_lexer": "ipython3",
   "version": "3.12.3"
  }
 },
 "nbformat": 4,
 "nbformat_minor": 5
}
