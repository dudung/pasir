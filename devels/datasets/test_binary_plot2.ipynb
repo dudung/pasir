{
 "cells": [
  {
   "cell_type": "markdown",
   "id": "cf303bf2-375a-4cab-9bf6-11ff0c3ec3e9",
   "metadata": {},
   "source": [
    "## binary and plot2"
   ]
  },
  {
   "cell_type": "code",
   "execution_count": null,
   "id": "f222633e-3618-4e4d-ac1b-6456db41171c",
   "metadata": {},
   "outputs": [],
   "source": [
    "from pasir.datasets.clasdata import binary\n",
    "from pasir.datasets.dataviz import plot2\n",
    "\n",
    "r1 = [0, 1.05, 0.05]\n",
    "r2 = [0, 1.05, 0.05]\n",
    "coeffs = [[0], [-1, 1]]\n",
    "x, y, z = binary(coeffs, r1=r1, r2=r2)\n",
    "\n",
    "plot2(x, y, z)"
   ]
  },
  {
   "cell_type": "code",
   "execution_count": null,
   "id": "0b7a584e-3a07-4495-ad02-07d4a7af2c5e",
   "metadata": {},
   "outputs": [],
   "source": [
    "from pasir.datasets.clasdata import binary\n",
    "from pasir.datasets.dataviz import plot2\n",
    "\n",
    "r1 = [0, 1.05, 0.05]\n",
    "r2 = [0, 1.05, 0.05]\n",
    "coeffs = [[0], [0, 1], [-1, 0, 0]]\n",
    "x, y, z = binary(coeffs, r1=r1, r2=r2)\n",
    "\n",
    "plot2(x, y, z)"
   ]
  },
  {
   "cell_type": "code",
   "execution_count": null,
   "id": "a05470f7-633c-40ca-9854-ff5308cd287d",
   "metadata": {},
   "outputs": [],
   "source": [
    "from pasir.datasets.clasdata import binary\n",
    "from pasir.datasets.dataviz import plot2\n",
    "\n",
    "r1 = [0, 1.05, 0.05]\n",
    "r2 = [0, 1.05, 0.05]\n",
    "coeffs = [[0], [0, 1], [0, 0, 0],\n",
    "          [-1, 0, 0, 0]]\n",
    "x, y, z = binary(coeffs, r1=r1, r2=r2)\n",
    "\n",
    "plot2(x, y, z)"
   ]
  },
  {
   "cell_type": "code",
   "execution_count": null,
   "id": "a41b1d59-892b-429a-9338-577f20f24968",
   "metadata": {},
   "outputs": [],
   "source": [
    "from pasir.datasets.clasdata import binary\n",
    "from pasir.datasets.dataviz import plot2\n",
    "\n",
    "r1 = [0, 1.05, 0.05]\n",
    "r2 = [0, 1.05, 0.05]\n",
    "coeffs = [[0.41], [-1, -1], [1, 0, 1]]\n",
    "x, y, z = binary(coeffs, r1=r1, r2=r2)\n",
    "\n",
    "plot2(x, y, z)"
   ]
  },
  {
   "cell_type": "code",
   "execution_count": null,
   "id": "fc82872d-374d-433e-822a-bf02848d4cc0",
   "metadata": {},
   "outputs": [],
   "source": [
    "from pasir.datasets.clasdata import binary\n",
    "from pasir.datasets.dataviz import plot2\n",
    "\n",
    "r1 = [0, 1.05, 0.05]\n",
    "r2 = [0, 1.05, 0.05]\n",
    "coeffs = [[1], [-4, -1], [4, 0, 0]]\n",
    "x, y, z = binary(coeffs, r1=r1, r2=r2)\n",
    "\n",
    "plot2(x, y, z)"
   ]
  },
  {
   "cell_type": "code",
   "execution_count": null,
   "id": "e5dfd604-204c-4108-9e03-9c848c5011a1",
   "metadata": {},
   "outputs": [],
   "source": []
  }
 ],
 "metadata": {
  "kernelspec": {
   "display_name": "Python 3 (ipykernel)",
   "language": "python",
   "name": "python3"
  },
  "language_info": {
   "codemirror_mode": {
    "name": "ipython",
    "version": 3
   },
   "file_extension": ".py",
   "mimetype": "text/x-python",
   "name": "python",
   "nbconvert_exporter": "python",
   "pygments_lexer": "ipython3",
   "version": "3.12.3"
  }
 },
 "nbformat": 4,
 "nbformat_minor": 5
}
